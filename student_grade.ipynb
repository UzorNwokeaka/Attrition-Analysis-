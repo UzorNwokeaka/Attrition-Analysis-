{
  "nbformat": 4,
  "nbformat_minor": 0,
  "metadata": {
    "colab": {
      "provenance": [],
      "authorship_tag": "ABX9TyPXtrvUc3dKttEf/ZdbN+gu",
      "include_colab_link": true
    },
    "kernelspec": {
      "name": "python3",
      "display_name": "Python 3"
    },
    "language_info": {
      "name": "python"
    }
  },
  "cells": [
    {
      "cell_type": "markdown",
      "metadata": {
        "id": "view-in-github",
        "colab_type": "text"
      },
      "source": [
        "<a href=\"https://colab.research.google.com/github/UzorNwokeaka/Attrition-Analysis-/blob/main/student_grade.ipynb\" target=\"_parent\"><img src=\"https://colab.research.google.com/assets/colab-badge.svg\" alt=\"Open In Colab\"/></a>"
      ]
    },
    {
      "cell_type": "code",
      "execution_count": null,
      "metadata": {
        "id": "C0jt20CZTaHc"
      },
      "outputs": [],
      "source": [
        "# A Python code that determines student grades from inputed score.\n",
        "''' User must input a score within the range of 1 to 100 otherwise, the program will continue to ask for a valid score '''\n",
        "\n",
        "while True:\n",
        "  score = int(input(\"Please enter a valid score between 1 to 100: \"))\n",
        "\n",
        "  # Loop tests the score to determine it's within the range\n",
        "  if 1 <= score <= 100:\n",
        "\n",
        "    # Loop determines the actual grade of the score\n",
        "    if score >= 90:\n",
        "      print(\"You have scored an 'A' \")\n",
        "    elif 80 <= score <90:\n",
        "      print(\"You have scored a 'B' \")\n",
        "    elif 70 <= score < 80:\n",
        "      print(\"You have scored a 'C' \")\n",
        "    else:\n",
        "      print(\"You have scored a 'D' \")\n",
        "    break\n",
        "else:\n",
        "  print(\"The score you entered is outside the range 1 to 100\")"
      ]
    },
    {
      "cell_type": "code",
      "source": [],
      "metadata": {
        "id": "Xfxt_dUoToRj"
      },
      "execution_count": null,
      "outputs": []
    },
    {
      "cell_type": "code",
      "source": [],
      "metadata": {
        "id": "JAoD8VMRToU_"
      },
      "execution_count": null,
      "outputs": []
    },
    {
      "cell_type": "code",
      "source": [],
      "metadata": {
        "id": "Xc1YP61VToXy"
      },
      "execution_count": null,
      "outputs": []
    },
    {
      "cell_type": "code",
      "source": [],
      "metadata": {
        "id": "q0fqx8sQToah"
      },
      "execution_count": null,
      "outputs": []
    },
    {
      "cell_type": "code",
      "source": [],
      "metadata": {
        "id": "NmtogkY8TodS"
      },
      "execution_count": null,
      "outputs": []
    },
    {
      "cell_type": "code",
      "source": [],
      "metadata": {
        "id": "Hp8eV9g7Togf"
      },
      "execution_count": null,
      "outputs": []
    },
    {
      "cell_type": "code",
      "source": [],
      "metadata": {
        "id": "olkPVy8TTojT"
      },
      "execution_count": null,
      "outputs": []
    },
    {
      "cell_type": "code",
      "source": [],
      "metadata": {
        "id": "PQubEsUgTom_"
      },
      "execution_count": null,
      "outputs": []
    }
  ]
}